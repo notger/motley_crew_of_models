{
 "cells": [
  {
   "cell_type": "markdown",
   "id": "6807c1c9-0f8b-4f11-b87e-ea4193230a03",
   "metadata": {},
   "source": [
    "In order to run this notebook, you have to have downloaded the playground series data from Kaggle, season 4, episode 11.\n",
    "Place the extracted folder right next to where this notebook lives.\n",
    "\n",
    "Please note that while the data contains test_data, this is actually for Kaggle-submissions, so they don't contain the label.\n",
    "\n",
    "For a cheat sheet how to use autogluon, see here: https://raw.githubusercontent.com/Innixma/autogluon-doc-utils/main/docs/cheatsheets/stable/autogluon-cheat-sheet.jpeg ."
   ]
  },
  {
   "cell_type": "code",
   "execution_count": null,
   "id": "e2d5f1f3-2b2f-49c1-ab43-07dd68430905",
   "metadata": {},
   "outputs": [],
   "source": [
    "from autogluon.tabular import TabularDataset, TabularPredictor"
   ]
  },
  {
   "cell_type": "code",
   "execution_count": null,
   "id": "a6d49ae0-abae-48b1-a56c-76f1bfc28870",
   "metadata": {},
   "outputs": [],
   "source": [
    "train_data = TabularDataset('playground-series-s4e11/train.csv')"
   ]
  },
  {
   "cell_type": "code",
   "execution_count": null,
   "id": "2130657a-d494-4aa3-b530-bf43e6a4f6ed",
   "metadata": {},
   "outputs": [],
   "source": [
    "predictor = TabularPredictor(label='Depression').fit(train_data)"
   ]
  },
  {
   "cell_type": "code",
   "execution_count": null,
   "id": "084b8dc2-b12e-4dc9-8a47-5d9d44047299",
   "metadata": {},
   "outputs": [],
   "source": [
    "predictor.leaderboard()"
   ]
  },
  {
   "cell_type": "code",
   "execution_count": null,
   "id": "a3629220-e654-46b2-9290-871a80fdac2a",
   "metadata": {},
   "outputs": [],
   "source": [
    "predictor.fit_summary(show_plot=True)"
   ]
  },
  {
   "cell_type": "code",
   "execution_count": null,
   "id": "55812da3-375b-41e0-8780-9e280a8abd12",
   "metadata": {},
   "outputs": [],
   "source": [
    "predictor.feature_importance(train_data)"
   ]
  },
  {
   "cell_type": "code",
   "execution_count": null,
   "id": "28eea11c-cf24-4fe8-a2ad-2f6c65d25b95",
   "metadata": {},
   "outputs": [],
   "source": []
  }
 ],
 "metadata": {
  "kernelspec": {
   "display_name": "Python 3 (ipykernel)",
   "language": "python",
   "name": "python3"
  },
  "language_info": {
   "codemirror_mode": {
    "name": "ipython",
    "version": 3
   },
   "file_extension": ".py",
   "mimetype": "text/x-python",
   "name": "python",
   "nbconvert_exporter": "python",
   "pygments_lexer": "ipython3",
   "version": "3.12.2"
  }
 },
 "nbformat": 4,
 "nbformat_minor": 5
}
