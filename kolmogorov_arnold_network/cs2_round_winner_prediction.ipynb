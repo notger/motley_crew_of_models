{
 "cells": [
  {
   "cell_type": "markdown",
   "id": "e5c4ccc6-6796-47a6-82c1-b4a65ccfc851",
   "metadata": {},
   "source": [
    "We want to do use our usual thing: Comparing a model with a model on which we know what world-class performance looks like. So here we are once again, working on a curated CS2 data set."
   ]
  },
  {
   "cell_type": "code",
   "execution_count": 1,
   "id": "ad598596-f02e-4675-bb12-94c92dfd9fc3",
   "metadata": {},
   "outputs": [],
   "source": [
    "from kan import *\n",
    "import numpy as np\n",
    "import pandas as pd\n",
    "import matplotlib.pyplot as plt\n",
    "from sklearn.metrics import brier_score_loss\n",
    "from sklearn.preprocessing import MinMaxScaler\n",
    "\n",
    "torch.set_default_dtype(torch.float64)\n",
    "device = torch.device('cuda' if torch.cuda.is_available() else 'cpu')"
   ]
  },
  {
   "cell_type": "markdown",
   "id": "87597db9-b23d-48db-a9a4-c4a4f9b79535",
   "metadata": {},
   "source": [
    "# Load the data and select features\n",
    "I really should do these in a function next to the dataset."
   ]
  },
  {
   "cell_type": "code",
   "execution_count": 2,
   "id": "3b9a463c-51bf-4489-bf3a-e387860379df",
   "metadata": {},
   "outputs": [],
   "source": [
    "ROUND_IN_PROGRESS_ONLY = True"
   ]
  },
  {
   "cell_type": "code",
   "execution_count": 3,
   "id": "126a54c1-2932-46eb-9d76-48d1d2972f90",
   "metadata": {},
   "outputs": [],
   "source": [
    "df = pd.read_csv('../autogluon_experiments/cs2_curated/cs2_curated.csv.zip', compression='gzip', low_memory=False)\n",
    "\n",
    "# Some boiler-plate feature engineering:\n",
    "\n",
    "# There are map names which start with a capital letter.\n",
    "df.map_name = df.map_name.apply(str.lower)\n",
    "\n",
    "# Make sure the round nr is an int:\n",
    "df.round_nr = df.round_nr.astype(int)\n",
    "\n",
    "# mark switch rounds: consider each round a switch round where the terrorist rating changes\n",
    "# we do not care if this is a correct switch or not, if the teams change in the next round, we do not want to predict the next round\n",
    "rwise = df.groupby('round_id').first().sort_values(by=['map_id', 'round_nr'])\n",
    "for i in range(1, 4):\n",
    "    rwise[f'switch_in_{i}'] = 13 - df.round_nr - i\n",
    "df = df.merge(rwise[[f'switch_in_{i}' for i in range(1, 4)]], left_on='round_id', right_index=True)\n",
    "total_rounds = df.groupby('map_id').round_nr.max()\n",
    "total_rounds.name = 'total_rounds'\n",
    "df = df.merge(total_rounds, left_on='map_id', right_index=True)\n",
    "\n",
    "# Create the round winner lookups for the current and the next rounds.\n",
    "# The result will be a table with the round_ids as indices and the round_winners as columns.\n",
    "# E.g. round_winner_3 is the round winner three rounds from the current round, so if the current round is 10, then it would be round 13.\n",
    "# This calculation only takes rounds which actually exist, so on columns after the match ends.\n",
    "round_winner_table = df.groupby(['map_id', 'round_nr']).round_winner.last().dropna().astype(int).to_frame().rename(columns={'round_winner': 'round_winner_0'})\n",
    "\n",
    "# For each horizon, join the round winner lookup with the shifted array. Note that we don't convert to int yet, as we can't; the rows will contain NaN:\n",
    "for horizon in range(1, 4):\n",
    "    round_winner_table = round_winner_table.join(\n",
    "        round_winner_table.groupby(['map_id', 'round_nr'])['round_winner_0'].first().shift(-horizon).rename(f'round_winner_{horizon}')\n",
    "    )\n",
    "\n",
    "# Merge the round-winner-table back into the main dataframe and rename the columns while on the way:\n",
    "df = df.merge(round_winner_table, left_on=['map_id', 'round_nr'], right_index=True, copy=False, validate='m:1')"
   ]
  },
  {
   "cell_type": "code",
   "execution_count": 4,
   "id": "fad36eec-dd3e-46e5-89f0-805792d0e0e3",
   "metadata": {},
   "outputs": [],
   "source": [
    "# We do not want to do predictions into overtime or after round switch, which means we have to invalidate targets with a horizon in overtime:\n",
    "# - All t_win_next(i) or target_i for round = 24, 12\n",
    "# - All t_win_next(i) or target_i for i in (2, 3) for round = 23, 11\n",
    "# - All t_win_next(i) or target_i for i in (3) for round = 22, 10\n",
    "df.loc[df.round_nr == df.max_regular_rounds, 'round_winner_1'] = pd.NA\n",
    "df.loc[df.round_nr == df.max_regular_rounds, 'round_winner_2'] = pd.NA\n",
    "df.loc[df.round_nr == df.max_regular_rounds, 'round_winner_3'] = pd.NA\n",
    "df.loc[df.round_nr == df.max_regular_rounds - 1, 'round_winner_2'] = pd.NA\n",
    "df.loc[df.round_nr == df.max_regular_rounds - 1, 'round_winner_3'] = pd.NA\n",
    "df.loc[df.round_nr == df.max_regular_rounds - 2, 'round_winner_3'] = pd.NA\n",
    "df.loc[df.round_nr == df.max_regular_rounds / 2, 'round_winner_1'] = pd.NA\n",
    "df.loc[df.round_nr == df.max_regular_rounds / 2, 'round_winner_2'] = pd.NA\n",
    "df.loc[df.round_nr == df.max_regular_rounds / 2, 'round_winner_3'] = pd.NA\n",
    "df.loc[df.round_nr == df.max_regular_rounds / 2 - 1, 'round_winner_2'] = pd.NA\n",
    "df.loc[df.round_nr == df.max_regular_rounds / 2 - 1, 'round_winner_3'] = pd.NA\n",
    "df.loc[df.round_nr == df.max_regular_rounds / 2 - 2, 'round_winner_3'] = pd.NA\n",
    "\n",
    "# Disabled, since the curated set does not have switch_in_1 set:\n",
    "#df.loc[df.switch_in_1, 'round_winner_1'] = pd.NA\n",
    "#df.loc[df.switch_in_1, 'round_winner_2'] = pd.NA\n",
    "#df.loc[df.switch_in_1, 'round_winner_3'] = pd.NA\n",
    "#df.loc[df.switch_in_2, 'round_winner_2'] = pd.NA\n",
    "#df.loc[df.switch_in_2, 'round_winner_3'] = pd.NA\n",
    "#df.loc[df.switch_in_3, 'round_winner_3'] = pd.NA"
   ]
  },
  {
   "cell_type": "code",
   "execution_count": 5,
   "id": "2655eb28-88ec-450a-9430-d5330ea3713b",
   "metadata": {},
   "outputs": [],
   "source": [
    "# Create the target columns for this and the following rounds:\n",
    "df['target_0'] = df['round_winner_0'].astype(int)\n",
    "for k in range(1, 4):\n",
    "    df[f'target_{k}'] = df[f'round_winner_{k}']\n",
    "\n",
    "# Add fields indicating pistol rounds, the score difference and dominance, bin the pts and add an indicator whether it is a high-eco-sample(!) / in overtime:\n",
    "df = df.assign(\n",
    "    is_pistol_round = (df.round_nr == 1).astype(int) + (df.round_nr == df.max_regular_rounds // 2 + 1).astype(int),\n",
    "    is_pistol_round_1 = (df.round_nr == df.max_regular_rounds // 2).astype(int),\n",
    "    score_diff = df.t_round_score - df.ct_round_score,\n",
    "    score_dominance = df.t_round_score / (df.t_round_score + df.ct_round_score),\n",
    "    is_high_eco = (df.t_eq > 25_000) & (df.ct_eq > 25_000),\n",
    "    is_overtime = df.round_nr > df.max_regular_rounds,\n",
    "    t_pts_bin = pd.cut(df.t_pts, bins=np.linspace(0, 1.0, 21, endpoint=True)),\n",
    "    t_pot = df.t_cash + df.t_eq,\n",
    "    ct_pot = df.ct_cash + df.ct_eq,\n",
    ")\n",
    "df.score_dominance = df.score_dominance.fillna(0.5)\n",
    "\n",
    "# Finally, we are only interested in real events, not that stupid round-start event which indicates the start of the buying phase.\n",
    "df = df[df.event_type != 'round_start']"
   ]
  },
  {
   "cell_type": "code",
   "execution_count": 6,
   "id": "a0978334-074a-46e2-9a23-89c5b686f825",
   "metadata": {},
   "outputs": [],
   "source": [
    "# Add the average death count to the mix:\n",
    "for k in range(5):\n",
    "    df[f't_p{k}_death_stat'] = df[f't_p{k}_deaths'] / df.round_nr\n",
    "    df[f'ct_p{k}_death_stat'] = df[f'ct_p{k}_deaths'] / df.round_nr"
   ]
  },
  {
   "cell_type": "code",
   "execution_count": 7,
   "id": "818d59ef-7cf2-4607-be2b-78756391eadb",
   "metadata": {},
   "outputs": [],
   "source": [
    "# Please note that KANs do not allow for categorical features, so we will not use map-name here:\n",
    "features = ['t_cash', 'ct_cash', 't_alive', 'ct_alive',  \n",
    "    't_eq', 'ct_eq', #'t_losing_streak', 'ct_losing_streak', \n",
    "    'bomb_is_planted', 'bomb_is_defused', 't_pts', #'score_diff', 'score_dominance'\n",
    "]\n",
    "#features += [c for c in df if 'health' in c]\n",
    "#features += [c for c in df if 'death_stat' in c]"
   ]
  },
  {
   "cell_type": "code",
   "execution_count": 8,
   "id": "c6709425-c00a-4d2b-804e-3eae237ef8e1",
   "metadata": {},
   "outputs": [],
   "source": [
    "# Make a train test split:\n",
    "if ROUND_IN_PROGRESS_ONLY:\n",
    "    df_train = df[:int(0.8 * len(df))].query('round_in_progress == True')[features + ['round_winner']]\n",
    "    df_test = df[int(0.8 * len(df)):].query('round_in_progress == True')[features + ['round_winner']]\n",
    "\n",
    "else:\n",
    "    df_train = df[:int(0.8 * len(df))][features + ['round_winner']]\n",
    "    df_test = df[int(0.8 * len(df)):][features + ['round_winner']]"
   ]
  },
  {
   "cell_type": "markdown",
   "id": "754c1749-066d-4ad0-84ac-4da63bf5b8ef",
   "metadata": {},
   "source": [
    "# Train a KAN"
   ]
  },
  {
   "cell_type": "code",
   "execution_count": 9,
   "id": "c60d31e2-a367-4a77-8d27-704a2895a80b",
   "metadata": {},
   "outputs": [],
   "source": [
    "# Create separate matrices for the KAN, as the KAN wants torch-style arrays. Also normalise it, while we are at it.\n",
    "df_kan_train = df_train[features + ['round_winner']].sample(frac=0.1)\n",
    "df_kan_test = df_test[features + ['round_winner']].sample(frac=0.1)\n",
    "\n",
    "scaler = MinMaxScaler()\n",
    "\n",
    "dataset = {\n",
    "    'train_input': torch.from_numpy(scaler.fit_transform(df_kan_train[features])),\n",
    "    'test_input': torch.from_numpy(scaler.fit_transform(df_kan_test[features])),\n",
    "    'train_label': torch.from_numpy(df_kan_train.round_winner.to_numpy().astype(float)),\n",
    "    'test_label': torch.from_numpy(df_kan_test.round_winner.to_numpy().astype(float)),\n",
    "}"
   ]
  },
  {
   "cell_type": "code",
   "execution_count": 10,
   "id": "be77584d-0b04-476a-b00b-a6eb58b59ec9",
   "metadata": {},
   "outputs": [
    {
     "name": "stdout",
     "output_type": "stream",
     "text": [
      "checkpoint directory created: ./model\n",
      "saving model version 0.0\n"
     ]
    },
    {
     "name": "stderr",
     "output_type": "stream",
     "text": [
      "| train_loss: 5.01e-01 | test_loss: 5.09e-01 | reg: 3.01e+00 | : 100%|█| 500/500 [03:42<00:00,  2.25\n"
     ]
    },
    {
     "name": "stdout",
     "output_type": "stream",
     "text": [
      "saving model version 0.1\n"
     ]
    },
    {
     "data": {
      "image/png": "[encoded data removed]",
      "text/plain": [
       "<Figure size 640x480 with 1 Axes>"
      ]
     },
     "metadata": {},
     "output_type": "display_data"
    }
   ],
   "source": [
    "grids = [5]\n",
    "\n",
    "train_losses = []\n",
    "test_losses = []\n",
    "\n",
    "# Use the Brier score as custom loss function:\n",
    "def custom_loss(y_pred, y_true):\n",
    "    return torch.mean(\n",
    "        (y_pred - y_true)**2\n",
    "    )\n",
    "\n",
    "for i, grid_size in enumerate(grids):\n",
    "    if i == 0:\n",
    "        kan_mdl = KAN(width=[len(features), 1], grid=grid_size, k=5, seed=983457, device=device)\n",
    "    else:\n",
    "        kan_mdl = kan_mdl.refine(grid_size)\n",
    "    res = kan_mdl.fit(dataset, opt=\"Adam\", batch=5000, steps=500, lamb=0.01, loss_fn=custom_loss);\n",
    "    train_losses += res['train_loss']\n",
    "    test_losses += res['test_loss']\n",
    "\n",
    "plt.plot(train_losses)\n",
    "plt.plot(test_losses)\n",
    "plt.legend(['train', 'test'])\n",
    "plt.ylabel('Brier score')\n",
    "plt.xlabel('step')\n",
    "plt.yscale('log')"
   ]
  },
  {
   "cell_type": "code",
   "execution_count": 11,
   "id": "ce8bcf47-8379-4705-a784-bba5ecc4ed63",
   "metadata": {},
   "outputs": [
    {
     "data": {
      "image/png": "[encoded data removed]",
      "text/plain": [
       "<Figure size 500x200 with 11 Axes>"
      ]
     },
     "metadata": {},
     "output_type": "display_data"
    }
   ],
   "source": [
    "kan_mdl.plot()"
   ]
  },
  {
   "cell_type": "markdown",
   "id": "7108e8c3-919f-43a1-807d-ddd7aeac315a",
   "metadata": {},
   "source": [
    "Any version of the classifier tried fails soundly. Despite the most important features being expressive with correlations around 0.35'ish, the training loss stays at exactly 0.5.\n",
    "\n",
    "Even when you give it only one feature with a 0.65 correlation (equipment spread), it completely fails to produce a sensible prediction.\n",
    "\n",
    "A simple MLP trained in parallel does the job withtout problems and ofc Catboost does it as well. There seems to be something off with the optimisation when low-expressive features are in the mix. But that is just a hunch."
   ]
  }
 ],
 "metadata": {
  "kernelspec": {
   "display_name": "Python 3 (ipykernel)",
   "language": "python",
   "name": "python3"
  },
  "language_info": {
   "codemirror_mode": {
    "name": "ipython",
    "version": 3
   },
   "file_extension": ".py",
   "mimetype": "text/x-python",
   "name": "python",
   "nbconvert_exporter": "python",
   "pygments_lexer": "ipython3",
   "version": "3.12.2"
  }
 },
 "nbformat": 4,
 "nbformat_minor": 5
}
