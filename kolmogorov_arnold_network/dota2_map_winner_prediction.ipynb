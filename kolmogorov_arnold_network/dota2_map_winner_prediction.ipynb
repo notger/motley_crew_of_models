{
 "cells": [
  {
   "cell_type": "markdown",
   "id": "e5c4ccc6-6796-47a6-82c1-b4a65ccfc851",
   "metadata": {},
   "source": [
    "We want to do use our usual thing: Comparing a model with a model on which we know what world-class performance looks like. So here we are once again, working on a curated CS2 data set."
   ]
  },
  {
   "cell_type": "code",
   "execution_count": 1,
   "id": "ad598596-f02e-4675-bb12-94c92dfd9fc3",
   "metadata": {},
   "outputs": [],
   "source": [
    "from kan import *\n",
    "import numpy as np\n",
    "import pandas as pd\n",
    "import matplotlib.pyplot as plt\n",
    "from sklearn.metrics import brier_score_loss\n",
    "from sklearn.preprocessing import MinMaxScaler\n",
    "\n",
    "torch.set_default_dtype(torch.float64)\n",
    "device = torch.device('cuda' if torch.cuda.is_available() else 'cpu')"
   ]
  },
  {
   "cell_type": "markdown",
   "id": "87597db9-b23d-48db-a9a4-c4a4f9b79535",
   "metadata": {},
   "source": [
    "# Load the data and select features\n",
    "I really should do these in a function next to the dataset."
   ]
  },
  {
   "cell_type": "code",
   "execution_count": 2,
   "id": "983bfe61-f501-473a-81ea-4c006dbcb1b8",
   "metadata": {},
   "outputs": [],
   "source": [
    "df = pd.read_csv('~/bayes/data/training-data/dota2_curated.csv.zip', compression='gzip', low_memory=False)\n",
    "df.source_updated_at = pd.to_datetime(df.source_updated_at, format='ISO8601')"
   ]
  },
  {
   "cell_type": "code",
   "execution_count": 3,
   "id": "cd25578d-a7be-4abd-a17d-d41b2864e22c",
   "metadata": {},
   "outputs": [],
   "source": [
    "# Parameters to be used in the early game, i.e. before the 10-minute-mark:\n",
    "features_early = [\n",
    " 'networth_gap_filtered_20', \n",
    " 'xp_gap_filtered_20', \n",
    " 'last_hit_gap', \n",
    " 'deny_gap', \n",
    " 'alive_players_gap_filtered_10', \n",
    " 'towers_alive_gap', \n",
    " 'first_tower_health_pct_gap',\n",
    " #'radiant_pts'  # With no access to the skill rating service, we can not use this feature. Bummer.\n",
    "]\n",
    "\n",
    "# Parameters for the later game, i.e. after the 10-minute-mark:\n",
    "features_late = ['networth_distribution_filtered_20',\n",
    " 'xp_distribution_filtered_20',\n",
    " 'kill_gap_filtered_10',\n",
    " 'building_health_pct_gap',\n",
    " 'alive_players_gap_filtered_10',  # Normally, we would use a longer filter on a power-transformed feature here, but we don't have that in our curated set and this is just a test.\n",
    " 'barracks_alive_gap',\n",
    " 'weakest_lane_towers_remaining_gap',\n",
    " 'last_tower_health_pct_gap',\n",
    " 'team_lives_gap_filtered_5']\n",
    "\n",
    "features = features_early + features_late"
   ]
  },
  {
   "cell_type": "code",
   "execution_count": 4,
   "id": "aa193497-656e-410d-b87b-c46129fba3aa",
   "metadata": {},
   "outputs": [],
   "source": [
    "df.game_time = df.game_time.astype('float')"
   ]
  },
  {
   "cell_type": "code",
   "execution_count": 5,
   "id": "b6e576dd-9ff4-4367-b5b6-27b7b57584ff",
   "metadata": {},
   "outputs": [],
   "source": [
    "# matches start at -90 seconds, but our data sometimes starts later. mark the real \"first\" rows so we can use them later\n",
    "df = df.assign(true_first=df.game_time==-90)"
   ]
  },
  {
   "cell_type": "code",
   "execution_count": 6,
   "id": "f10899a2-11e3-4b0c-9a3a-7a436d7a25f6",
   "metadata": {},
   "outputs": [],
   "source": [
    "max_gt = df.groupby('map_id').game_time.max()"
   ]
  },
  {
   "cell_type": "code",
   "execution_count": 7,
   "id": "32bc10e9-220e-4743-add8-9bd92a48e02c",
   "metadata": {},
   "outputs": [],
   "source": [
    "df = df.merge(max_gt, left_on='map_id', right_index=True, suffixes=['', '_max'])"
   ]
  },
  {
   "cell_type": "code",
   "execution_count": 8,
   "id": "908f6e2f-9cda-4a10-bdc4-b2a87958c200",
   "metadata": {},
   "outputs": [
    {
     "name": "stdout",
     "output_type": "stream",
     "text": [
      "Removed 180 matches because they were too short\n"
     ]
    }
   ],
   "source": [
    "before = df.map_id.nunique()\n",
    "df = df[df.game_time_max > 600].copy()\n",
    "print(f'Removed {before - df.map_id.nunique()} matches because they were too short')"
   ]
  },
  {
   "cell_type": "code",
   "execution_count": 9,
   "id": "cbea441c-928a-4584-b7a2-d25fcb53b258",
   "metadata": {},
   "outputs": [],
   "source": [
    "to_remove = []\n",
    "for c in ['deny_gap', 'kill_gap_filtered_10', 'last_hit_gap']:\n",
    "    to_remove.extend(list((df[(df.true_first) &(df[c] != 0)].map_id.unique())))\n",
    "if len(to_remove) > 0:\n",
    "    df = df[~df.map_id.isin(to_remove)].copy()\n",
    "    print(f'Removed {len(to_remove)} matches because they started with strange values')"
   ]
  },
  {
   "cell_type": "code",
   "execution_count": 10,
   "id": "8b45405b-40b5-41cc-a259-9828cb63bb2a",
   "metadata": {},
   "outputs": [],
   "source": [
    "# remove the last row of each (finished) match, because it contains doctored data\n",
    "df = df[df.game_time != df.game_time_max].copy()"
   ]
  },
  {
   "cell_type": "code",
   "execution_count": 11,
   "id": "bbbaf48a-e4f5-49b1-978e-558eb8ac3ca0",
   "metadata": {},
   "outputs": [],
   "source": [
    "for c in [i for i in features if 'tanh' in i]:\n",
    "    df[c] = df[c[:-5]].div(df[c[:-5]].quantile(.9)).apply(lambda x: np.tanh(x))\n",
    "    pars[c+'_scaling'] = df[c[:-5]].quantile(.9)"
   ]
  },
  {
   "cell_type": "code",
   "execution_count": 12,
   "id": "a8921857-5d69-4152-b884-18368de5aa75",
   "metadata": {},
   "outputs": [
    {
     "name": "stdout",
     "output_type": "stream",
     "text": [
      "Training data has 1028 matches with mean winner matchwise 0.52 / rowwise 0.53.  Dire wins: 146254 rows. Radiant wins: 130723 rows. 1028 matches are over 50 minutes long. Oldest match is from 2024-12-27. Newest match is from 2025-05-27.\n",
      "\n",
      "Test data has 257 matches with mean winner matchwise 0.54 / rowwise 0.55.  Dire wins: 38974 rows. Radiant wins: 32439 rows. 257 matches are over 50 minutes long. Oldest match is from 2025-05-27. Newest match is from 2025-06-24.\n",
      "\n"
     ]
    }
   ],
   "source": [
    "# train/test split without balancing - balancing happens in the traning function\n",
    "def print_summary(df, name):\n",
    "    print(f'{name} data has {df.map_id.nunique()} matches with mean winner matchwise {df.groupby(\"map_id\").last().map_winner.mean():.2f} / rowwise {df.map_winner.mean():.2f}.  Dire wins: {len(df[df.map_winner==1])} rows. Radiant wins: {len(df[df.map_winner==0])} rows. {df[df.game_time_max>50].map_id.nunique()} matches are over 50 minutes long. Oldest match is from {df.source_updated_at.min().date()}. Newest match is from {df.source_updated_at.max().date()}.\\n')\n",
    "    \n",
    "df.sort_values(by='source_updated_at', inplace=True)\n",
    "matches = df.map_id.unique()\n",
    "train_matches = matches[:int(0.8*len(matches))]\n",
    "test_matches = [i for i in matches if i not in train_matches]\n",
    "for selection, name in zip([train_matches, test_matches], ['Training', 'Test']):\n",
    "    print_summary(df[df.map_id.isin(selection)], name)"
   ]
  },
  {
   "cell_type": "code",
   "execution_count": 13,
   "id": "de14786a-12c2-43de-a10f-56e7c85ec04a",
   "metadata": {},
   "outputs": [],
   "source": [
    "df_train = df.query('map_id in @train_matches')\n",
    "df_test = df.query('map_id in @test_matches')"
   ]
  },
  {
   "cell_type": "markdown",
   "id": "754c1749-066d-4ad0-84ac-4da63bf5b8ef",
   "metadata": {},
   "source": [
    "# Train a KAN"
   ]
  },
  {
   "cell_type": "code",
   "execution_count": 14,
   "id": "c60d31e2-a367-4a77-8d27-704a2895a80b",
   "metadata": {},
   "outputs": [],
   "source": [
    "# Create separate matrices for the KAN, as the KAN wants torch-style arrays. Also normalise it, while we are at it.\n",
    "df_kan_train_early = df_train[df_train.game_time <= 600][features_early + ['map_winner']].sample(frac=1.0)\n",
    "df_kan_test_early = df_test[df_test.game_time <= 600][features_early + ['map_winner']].sample(frac=1.0)\n",
    "\n",
    "df_kan_train_late = df_train[df_train.game_time <= 600][features_late + ['map_winner']].sample(frac=1.0)\n",
    "df_kan_test_late = df_test[df_test.game_time <= 600][features_late + ['map_winner']].sample(frac=1.0)\n",
    "\n",
    "scaler = MinMaxScaler()\n",
    "\n",
    "# Create labels needed for framing as classification problem with one-hot encoded targets, since the regression formulation failed:\n",
    "train_labels_early = torch.zeros(len(df_kan_train_early), 2)\n",
    "train_labels_late = torch.zeros(len(df_kan_train_late), 2)\n",
    "test_labels_early = torch.zeros(len(df_kan_test_early), 2)\n",
    "test_labels_late = torch.zeros(len(df_kan_test_late), 2)\n",
    "\n",
    "for k, label in enumerate(df_kan_train_early.map_winner):\n",
    "    train_labels_early[k, label] = 1\n",
    "\n",
    "for k, label in enumerate(df_kan_train_late.map_winner):\n",
    "    train_labels_late[k, label] = 1\n",
    "\n",
    "for k, label in enumerate(df_kan_test_early.map_winner):\n",
    "    test_labels_early[k, label] = 1\n",
    "\n",
    "for k, label in enumerate(df_kan_test_late.map_winner):\n",
    "    test_labels_late[k, label] = 1\n",
    "\n",
    "dataset_early = {\n",
    "    'train_input': torch.from_numpy(scaler.fit_transform(df_kan_train_early[features_early])),\n",
    "    'test_input': torch.from_numpy(scaler.fit_transform(df_kan_test_early[features_early])),\n",
    "    'train_label': train_labels_early,\n",
    "    'test_label': test_labels_early,\n",
    "}\n",
    "\n",
    "dataset_late = {\n",
    "    'train_input': torch.from_numpy(scaler.fit_transform(df_kan_train_late[features_late])),\n",
    "    'test_input': torch.from_numpy(scaler.fit_transform(df_kan_test_late[features_late])),\n",
    "    'train_label': train_labels_late,\n",
    "    'test_label': test_labels_late,\n",
    "}"
   ]
  },
  {
   "cell_type": "code",
   "execution_count": 15,
   "id": "be77584d-0b04-476a-b00b-a6eb58b59ec9",
   "metadata": {},
   "outputs": [
    {
     "name": "stdout",
     "output_type": "stream",
     "text": [
      "checkpoint directory created: ./model\n",
      "saving model version 0.0\n"
     ]
    },
    {
     "name": "stderr",
     "output_type": "stream",
     "text": [
      "| train_loss: 8.02e-01 | test_loss: 9.41e-01 | reg: 6.85e+00 | : 100%|█| 500/500 [01:01<00:00,  8.15\n"
     ]
    },
    {
     "name": "stdout",
     "output_type": "stream",
     "text": [
      "saving model version 0.1\n"
     ]
    },
    {
     "data": {
      "image/png": "[encoded data removed]",
      "text/plain": [
       "<Figure size 640x480 with 1 Axes>"
      ]
     },
     "metadata": {},
     "output_type": "display_data"
    }
   ],
   "source": [
    "grids = [5]\n",
    "\n",
    "train_losses = []\n",
    "test_losses = []\n",
    "\n",
    "# Use the Brier score as custom loss function:\n",
    "def custom_loss(y_pred, y_true):\n",
    "    return torch.mean(\n",
    "        (y_pred - torch.argmax(y_pred))**2\n",
    "    )\n",
    "\n",
    "for i, grid_size in enumerate(grids):\n",
    "    if i == 0:\n",
    "        kan_mdl = KAN(width=[len(features_early), 2], grid=grid_size, k=5, seed=983457, device=device)\n",
    "    else:\n",
    "        kan_mdl = kan_mdl.refine(grid_size)\n",
    "    res = kan_mdl.fit(dataset_early, opt=\"Adam\", batch=10_000, steps=500, lamb=0.001, loss_fn=torch.nn.CrossEntropyLoss());\n",
    "    train_losses += res['train_loss']\n",
    "    test_losses += res['test_loss']\n",
    "\n",
    "plt.plot(train_losses)\n",
    "plt.plot(test_losses)\n",
    "plt.legend(['train', 'test'])\n",
    "plt.ylabel('Brier score')\n",
    "plt.xlabel('step')\n",
    "plt.yscale('log')"
   ]
  },
  {
   "cell_type": "code",
   "execution_count": 16,
   "id": "547f3623-897d-4e6e-b5fc-f5ad15664d5e",
   "metadata": {},
   "outputs": [
    {
     "data": {
      "text/plain": [
       "19361"
      ]
     },
     "execution_count": 16,
     "metadata": {},
     "output_type": "execute_result"
    }
   ],
   "source": [
    "len(dataset_early['test_label'])"
   ]
  },
  {
   "cell_type": "code",
   "execution_count": 17,
   "id": "db230a40-1b29-4f10-b21d-0868ede2fe8f",
   "metadata": {},
   "outputs": [
    {
     "data": {
      "text/plain": [
       "tensor(19007)"
      ]
     },
     "execution_count": 17,
     "metadata": {},
     "output_type": "execute_result"
    }
   ],
   "source": [
    "(torch.argmax(kan_mdl(dataset_early['test_input']), dim=1) == 1).sum()"
   ]
  },
  {
   "cell_type": "code",
   "execution_count": 18,
   "id": "58b98216-28d5-43fb-b89f-a99d6b0dc510",
   "metadata": {},
   "outputs": [
    {
     "data": {
      "text/plain": [
       "tensor([0, 1, 1,  ..., 1, 1, 1])"
      ]
     },
     "execution_count": 18,
     "metadata": {},
     "output_type": "execute_result"
    }
   ],
   "source": [
    "torch.argmax(dataset_early['test_label'], dim=1)"
   ]
  },
  {
   "cell_type": "code",
   "execution_count": 19,
   "id": "812d4a03-f6de-45ad-abc5-1fa638c1f341",
   "metadata": {},
   "outputs": [
    {
     "data": {
      "text/plain": [
       "tensor([[-1.0846,  0.3339],\n",
       "        [-1.1915,  0.5858],\n",
       "        [-1.1434,  0.5211],\n",
       "        ...,\n",
       "        [-1.8724,  1.3076],\n",
       "        [-1.1552,  0.5221],\n",
       "        [-1.1045,  0.4758]], grad_fn=<AddBackward0>)"
      ]
     },
     "execution_count": 19,
     "metadata": {},
     "output_type": "execute_result"
    }
   ],
   "source": [
    "kan_mdl(dataset_early['test_input'])"
   ]
  },
  {
   "cell_type": "code",
   "execution_count": 20,
   "id": "2d6a455f-3507-484b-84b8-1600bceea565",
   "metadata": {},
   "outputs": [
    {
     "data": {
      "text/plain": [
       "tensor([[1., 0.],\n",
       "        [0., 1.],\n",
       "        [0., 1.],\n",
       "        ...,\n",
       "        [0., 1.],\n",
       "        [0., 1.],\n",
       "        [0., 1.]])"
      ]
     },
     "execution_count": 20,
     "metadata": {},
     "output_type": "execute_result"
    }
   ],
   "source": [
    "dataset_early['test_label']"
   ]
  },
  {
   "cell_type": "code",
   "execution_count": 21,
   "id": "ce8bcf47-8379-4705-a784-bba5ecc4ed63",
   "metadata": {},
   "outputs": [
    {
     "data": {
      "image/png": "[encoded data removed]",
      "text/plain": [
       "<Figure size 500x200 with 17 Axes>"
      ]
     },
     "metadata": {},
     "output_type": "display_data"
    }
   ],
   "source": [
    "kan_mdl.plot()"
   ]
  },
  {
   "cell_type": "code",
   "execution_count": 22,
   "id": "0bc5950b-2ca3-4de2-bc1c-ee44efc2e15a",
   "metadata": {},
   "outputs": [
    {
     "data": {
      "text/plain": [
       "tensor(0.9817)"
      ]
     },
     "execution_count": 22,
     "metadata": {},
     "output_type": "execute_result"
    }
   ],
   "source": [
    "# How often do they predict a Dire win?\n",
    "torch.mean((torch.argmax(kan_mdl(dataset_early['test_input']), dim=1) == 1).to(float))"
   ]
  },
  {
   "cell_type": "code",
   "execution_count": 23,
   "id": "94e6ddf6-c318-4b3a-aea8-36e1c92e87e2",
   "metadata": {},
   "outputs": [
    {
     "data": {
      "text/plain": [
       "tensor(0.5384)"
      ]
     },
     "execution_count": 23,
     "metadata": {},
     "output_type": "execute_result"
    }
   ],
   "source": [
    "# How often should they have predicted a Dire win?\n",
    "torch.mean((torch.argmax(dataset_early['test_label'], dim=1) == 1).to(float))"
   ]
  },
  {
   "cell_type": "markdown",
   "id": "7108e8c3-919f-43a1-807d-ddd7aeac315a",
   "metadata": {},
   "source": [
    "Any version of the classifier tried fails soundly, just like with the CS2 case. Despite the most important features being expressive with correlations around 0.35'ish, the training loss stays at exactly 0.5.\n",
    "\n",
    "When looking at the predicted values, you can see that in general, class 1 = Dire win is nearly always the predicted outcome. There is something fishy in the state of Denmark.\n",
    "\n",
    "A simple MLP trained in parallel does the job withtout problems and ofc Catboost does it as well. There seems to be something off with the optimisation when low-expressive features are in the mix. But that is just a hunch."
   ]
  }
 ],
 "metadata": {
  "kernelspec": {
   "display_name": "Python 3 (ipykernel)",
   "language": "python",
   "name": "python3"
  },
  "language_info": {
   "codemirror_mode": {
    "name": "ipython",
    "version": 3
   },
   "file_extension": ".py",
   "mimetype": "text/x-python",
   "name": "python",
   "nbconvert_exporter": "python",
   "pygments_lexer": "ipython3",
   "version": "3.12.2"
  }
 },
 "nbformat": 4,
 "nbformat_minor": 5
}
