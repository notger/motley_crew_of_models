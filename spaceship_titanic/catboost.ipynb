{
 "cells": [
  {
   "cell_type": "code",
   "execution_count": 1,
   "id": "e1c9da66-0b02-4964-b4f9-99b722665bdd",
   "metadata": {},
   "outputs": [],
   "source": [
    "import numpy as np\n",
    "import pandas as pd\n",
    "from catboost import CatBoostClassifier, Pool, metrics, cv\n",
    "from sklearn.metrics import accuracy_score\n",
    "from sklearn.model_selection import train_test_split"
   ]
  },
  {
   "cell_type": "code",
   "execution_count": 2,
   "id": "01adfcc2-4197-4614-a14c-305080ff3a56",
   "metadata": {},
   "outputs": [],
   "source": [
    "train_data = pd.read_csv('train_manual.csv')\n",
    "test_data = pd.read_csv('test_manual.csv')"
   ]
  },
  {
   "cell_type": "code",
   "execution_count": 3,
   "id": "1349af9d-b8b7-4367-913f-51029be2e0ab",
   "metadata": {},
   "outputs": [],
   "source": [
    "cat_features = [f for f in test_data if not pd.api.types.is_numeric_dtype(test_data[f])]\n",
    "num_features = [f for f in test_data if f not in cat_features]"
   ]
  },
  {
   "cell_type": "code",
   "execution_count": 4,
   "id": "5eec0ba2-0119-44b5-8b6c-f149cf784bd0",
   "metadata": {},
   "outputs": [],
   "source": [
    "default_values = {f: 'unknown' for f in cat_features}\n",
    "default_values.update({f: -1 for f in num_features})"
   ]
  },
  {
   "cell_type": "code",
   "execution_count": 5,
   "id": "bbd9f45f-67f3-4162-a3e9-4825c7e514b6",
   "metadata": {},
   "outputs": [],
   "source": [
    "# Add a total spending feature:\n",
    "test_data = test_data.assign(\n",
    "    spending = test_data[['RoomService', 'FoodCourt', 'ShoppingMall', 'Spa', 'VRDeck']].sum(axis=1),\n",
    ")\n",
    "train_data = train_data.assign(\n",
    "    spending = train_data[['RoomService', 'FoodCourt', 'ShoppingMall', 'Spa', 'VRDeck']].sum(axis=1),\n",
    ")\n",
    "num_features.append('spending')"
   ]
  },
  {
   "cell_type": "code",
   "execution_count": 6,
   "id": "7c6b766c-b9f6-4790-80d7-75dd06480b2d",
   "metadata": {},
   "outputs": [],
   "source": [
    "test_data.fillna(default_values, inplace=True)\n",
    "train_data.fillna(default_values, inplace=True)"
   ]
  },
  {
   "cell_type": "code",
   "execution_count": 7,
   "id": "dfd427e9-d8d9-44d9-bb00-91dee28b41a9",
   "metadata": {},
   "outputs": [],
   "source": [
    "X_train, X_validation, y_train, y_validation = train_test_split(train_data[[c for c in train_data if c != 'Transported']], train_data['Transported'], train_size=0.75, random_state=42)"
   ]
  },
  {
   "cell_type": "code",
   "execution_count": 8,
   "id": "a7e0d2bf-bd6a-46dd-8d2c-08ca54486eeb",
   "metadata": {},
   "outputs": [],
   "source": [
    "model = CatBoostClassifier(\n",
    "    iterations=1000,\n",
    "    custom_loss=[metrics.Accuracy()],\n",
    "    random_seed=42,\n",
    "    logging_level='Silent'\n",
    ")"
   ]
  },
  {
   "cell_type": "code",
   "execution_count": 9,
   "id": "6c1a7ee2-9a2b-4b1c-b4d5-c82c467a8d13",
   "metadata": {},
   "outputs": [
    {
     "data": {
      "application/vnd.jupyter.widget-view+json": {
       "model_id": "044319bc26c74b4d88521eb60b9710d9",
       "version_major": 2,
       "version_minor": 0
      },
      "text/plain": [
       "MetricVisualizer(layout=Layout(align_self='stretch', height='500px'))"
      ]
     },
     "metadata": {},
     "output_type": "display_data"
    }
   ],
   "source": [
    "model.fit(\n",
    "    X_train, y_train,\n",
    "    cat_features=cat_features,\n",
    "    eval_set=(X_validation, y_validation),\n",
    "    plot=True,\n",
    "    use_best_model=True,\n",
    ");"
   ]
  },
  {
   "cell_type": "code",
   "execution_count": 10,
   "id": "f971b716-e5bf-4850-ba60-7472194fc90e",
   "metadata": {},
   "outputs": [],
   "source": [
    "pd.DataFrame(model.predict(test_data), columns=['Transported']).join(test_data.PassengerId).set_index('PassengerId', drop=True).to_csv('submission_catboost.csv')"
   ]
  },
  {
   "cell_type": "code",
   "execution_count": null,
   "id": "82134024-6579-42fe-9669-8b0925440661",
   "metadata": {},
   "outputs": [],
   "source": []
  }
 ],
 "metadata": {
  "kernelspec": {
   "display_name": "Python 3 (ipykernel)",
   "language": "python",
   "name": "python3"
  },
  "language_info": {
   "codemirror_mode": {
    "name": "ipython",
    "version": 3
   },
   "file_extension": ".py",
   "mimetype": "text/x-python",
   "name": "python",
   "nbconvert_exporter": "python",
   "pygments_lexer": "ipython3",
   "version": "3.12.2"
  }
 },
 "nbformat": 4,
 "nbformat_minor": 5
}
