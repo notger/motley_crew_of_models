{
 "cells": [
  {
   "cell_type": "code",
   "execution_count": 1,
   "id": "e1c9da66-0b02-4964-b4f9-99b722665bdd",
   "metadata": {},
   "outputs": [],
   "source": [
    "import numpy as np\n",
    "import pandas as pd\n",
    "from catboost import CatBoostClassifier, Pool, metrics, cv\n",
    "from sklearn.metrics import accuracy_score\n",
    "from sklearn.model_selection import train_test_split"
   ]
  },
  {
   "cell_type": "code",
   "execution_count": 2,
   "id": "01adfcc2-4197-4614-a14c-305080ff3a56",
   "metadata": {},
   "outputs": [],
   "source": [
    "train_data = pd.read_csv('train_manual.csv')\n",
    "test_data = pd.read_csv('test_manual.csv')"
   ]
  },
  {
   "cell_type": "code",
   "execution_count": 3,
   "id": "1349af9d-b8b7-4367-913f-51029be2e0ab",
   "metadata": {},
   "outputs": [],
   "source": [
    "cat_features = [f for f in test_data if not pd.api.types.is_numeric_dtype(test_data[f])]\n",
    "num_features = [f for f in test_data if f not in cat_features and f not in ['id', 'Unnamed: 0']]\n",
    "features = cat_features + num_features"
   ]
  },
  {
   "cell_type": "code",
   "execution_count": 4,
   "id": "dfd427e9-d8d9-44d9-bb00-91dee28b41a9",
   "metadata": {},
   "outputs": [],
   "source": [
    "X_train, X_validation, y_train, y_validation = train_test_split(train_data[[c for c in train_data if c in features]], train_data['rainfall'], train_size=0.75, random_state=42)"
   ]
  },
  {
   "cell_type": "code",
   "execution_count": 5,
   "id": "3f097ce7-03f7-4eca-87e4-c7e43aff19e5",
   "metadata": {},
   "outputs": [],
   "source": [
    "# If we don't want to use auto class weights, here are class weights:\n",
    "class_weights = [int(len(train_data) - (train_data.rainfall == c).sum()) / len(train_data) for c in (0, 1)]"
   ]
  },
  {
   "cell_type": "code",
   "execution_count": 6,
   "id": "a7e0d2bf-bd6a-46dd-8d2c-08ca54486eeb",
   "metadata": {},
   "outputs": [],
   "source": [
    "model = CatBoostClassifier(\n",
    "    iterations=1000,\n",
    "    custom_loss=[metrics.Logloss(), metrics. AUC()],\n",
    "    eval_metric=metrics.AUC(),\n",
    "    random_seed=42,\n",
    "    logging_level='Silent',\n",
    "    auto_class_weights='Balanced',  # Disable this, if you want to use class weights.\n",
    "    #class_weights=class_weights,\n",
    "    #od_type='Iter',\n",
    "    #od_wait=50,\n",
    ")"
   ]
  },
  {
   "cell_type": "code",
   "execution_count": 7,
   "id": "6c1a7ee2-9a2b-4b1c-b4d5-c82c467a8d13",
   "metadata": {},
   "outputs": [
    {
     "data": {
      "application/vnd.jupyter.widget-view+json": {
       "model_id": "44654b50a41149cb8b16737e22eec15a",
       "version_major": 2,
       "version_minor": 0
      },
      "text/plain": [
       "MetricVisualizer(layout=Layout(align_self='stretch', height='500px'))"
      ]
     },
     "metadata": {},
     "output_type": "display_data"
    }
   ],
   "source": [
    "model.fit(\n",
    "    X_train, y_train,\n",
    "    cat_features=cat_features,\n",
    "    eval_set=(X_validation, y_validation),\n",
    "    plot=True,\n",
    "    use_best_model=True,\n",
    ");"
   ]
  },
  {
   "cell_type": "code",
   "execution_count": 8,
   "id": "70406341-0a24-448c-8a0b-9ebbcc4cd1aa",
   "metadata": {},
   "outputs": [],
   "source": [
    "# Retrain with full dataset:"
   ]
  },
  {
   "cell_type": "code",
   "execution_count": 9,
   "id": "7837d4e9-f29c-4b96-a0c1-3029880dec0a",
   "metadata": {},
   "outputs": [],
   "source": [
    "iteration_count = model.best_iteration_"
   ]
  },
  {
   "cell_type": "code",
   "execution_count": 11,
   "id": "5c5766b2-0815-4958-baac-5dbda70bf006",
   "metadata": {},
   "outputs": [],
   "source": [
    "model = CatBoostClassifier(\n",
    "    iterations=int(iteration_count * 1.3),\n",
    "    custom_loss=[metrics.AUC(), metrics.Accuracy(), metrics.Precision()],\n",
    "    random_seed=42,\n",
    "    logging_level='Silent',\n",
    "    auto_class_weights='Balanced',  # Disable this, if you want to use class weights.\n",
    "    #class_weights=class_weights,    \n",
    ")"
   ]
  },
  {
   "cell_type": "code",
   "execution_count": 12,
   "id": "7d3dbc16-5887-401f-a7ea-e2e91a0a7163",
   "metadata": {},
   "outputs": [
    {
     "data": {
      "application/vnd.jupyter.widget-view+json": {
       "model_id": "0efc4e8b0c1148f2b83754c009ce9227",
       "version_major": 2,
       "version_minor": 0
      },
      "text/plain": [
       "MetricVisualizer(layout=Layout(align_self='stretch', height='500px'))"
      ]
     },
     "metadata": {},
     "output_type": "display_data"
    }
   ],
   "source": [
    "model.fit(\n",
    "    train_data[features], train_data.rainfall,\n",
    "    cat_features=cat_features,\n",
    "    plot=True,\n",
    ");"
   ]
  },
  {
   "cell_type": "code",
   "execution_count": 13,
   "id": "f971b716-e5bf-4850-ba60-7472194fc90e",
   "metadata": {},
   "outputs": [],
   "source": [
    "pd.DataFrame(model.predict_proba(test_data)[:, 1], columns=['rainfall']).join(test_data.id).set_index('id', drop=True).to_csv('submission_catboost.csv')"
   ]
  },
  {
   "cell_type": "code",
   "execution_count": null,
   "id": "3f354f75-5bbe-4418-ac74-1e3862b5aca5",
   "metadata": {},
   "outputs": [],
   "source": []
  }
 ],
 "metadata": {
  "kernelspec": {
   "display_name": "Python 3 (ipykernel)",
   "language": "python",
   "name": "python3"
  },
  "language_info": {
   "codemirror_mode": {
    "name": "ipython",
    "version": 3
   },
   "file_extension": ".py",
   "mimetype": "text/x-python",
   "name": "python",
   "nbconvert_exporter": "python",
   "pygments_lexer": "ipython3",
   "version": "3.12.2"
  }
 },
 "nbformat": 4,
 "nbformat_minor": 5
}
