{
 "cells": [
  {
   "cell_type": "code",
   "execution_count": 1,
   "id": "422f0040-a4d3-4541-8543-1856044d7a6f",
   "metadata": {},
   "outputs": [],
   "source": [
    "import numpy as np\n",
    "import pandas as pd\n",
    "import torch\n",
    "#import lightning\n",
    "from torch import nn, optim, tensor\n",
    "from torch.utils.data import DataLoader, Dataset\n",
    "from sklearn.model_selection import train_test_split\n",
    "import matplotlib.pyplot as plt"
   ]
  },
  {
   "cell_type": "code",
   "execution_count": 2,
   "id": "3077d92c-2dc9-41eb-a307-788e46e1d293",
   "metadata": {},
   "outputs": [],
   "source": [
    "train_data = pd.read_csv('train_manual.csv')\n",
    "test_data = pd.read_csv('test_manual.csv')"
   ]
  },
  {
   "cell_type": "code",
   "execution_count": 3,
   "id": "ea23d455-d8fa-4998-bf40-4b26ed513dcd",
   "metadata": {},
   "outputs": [
    {
     "name": "stderr",
     "output_type": "stream",
     "text": [
      "/tmp/ipykernel_1022350/2573330982.py:1: FutureWarning: A value is trying to be set on a copy of a DataFrame or Series through chained assignment using an inplace method.\n",
      "The behavior will change in pandas 3.0. This inplace method will never work because the intermediate object on which we are setting values always behaves as a copy.\n",
      "\n",
      "For example, when doing 'df[col].method(value, inplace=True)', try using 'df.method({col: value}, inplace=True)' or df[col] = df[col].method(value) instead, to perform the operation inplace on the original object.\n",
      "\n",
      "\n",
      "  test_data.winddirection.fillna(test_data.winddirection.median(), inplace=True)\n"
     ]
    }
   ],
   "source": [
    "test_data.winddirection.fillna(test_data.winddirection.median(), inplace=True)"
   ]
  },
  {
   "cell_type": "code",
   "execution_count": 4,
   "id": "d16ddc7b-0cf9-4e50-a481-f254a82f70bb",
   "metadata": {},
   "outputs": [],
   "source": [
    "features = [f for f in test_data if f not in ['id', 'Unnamed: 0']]"
   ]
  },
  {
   "cell_type": "code",
   "execution_count": 5,
   "id": "2f3ec589-3ccb-4bbf-9ac6-20f672cb0314",
   "metadata": {},
   "outputs": [],
   "source": [
    "X_train, X_validation, y_train, y_validation = train_test_split(train_data[[c for c in train_data if c in features]], train_data['rainfall'], train_size=0.75, random_state=42)"
   ]
  },
  {
   "cell_type": "code",
   "execution_count": 6,
   "id": "2bfad57a-5a18-457e-b953-88d85d788432",
   "metadata": {},
   "outputs": [],
   "source": [
    "device = 'cpu'"
   ]
  },
  {
   "cell_type": "code",
   "execution_count": 7,
   "id": "ab221f86-b7ef-4c7b-a862-5e4e25b958be",
   "metadata": {},
   "outputs": [],
   "source": [
    "class NN(nn.Module):\n",
    "    def __init__(self):\n",
    "        super().__init__()\n",
    "        self.linear_relu_stack = nn.Sequential(\n",
    "            nn.Linear(len(features), 128),\n",
    "            nn.BatchNorm1d(128),\n",
    "            nn.Dropout(p=0.3),\n",
    "            nn.ReLU(),\n",
    "            nn.Linear(128, 64),\n",
    "            nn.BatchNorm1d(64),\n",
    "            nn.Dropout(p=0.2),\n",
    "            nn.ReLU(),\n",
    "            nn.Linear(64, 16),\n",
    "            nn.ReLU(),\n",
    "            nn.Linear(16, 1),\n",
    "            nn.Sigmoid(),\n",
    "        )\n",
    "\n",
    "    def forward(self, x):\n",
    "        return self.linear_relu_stack(x)"
   ]
  },
  {
   "cell_type": "code",
   "execution_count": 8,
   "id": "39e88c3b-7ca5-42ec-8e4f-8bac5835a073",
   "metadata": {},
   "outputs": [],
   "source": [
    "class RainfallDataSet(Dataset):\n",
    "    def __init__(self, X, y=None, train=False):\n",
    "        self.X = tensor(X.values, dtype=torch.float32)\n",
    "        self.train = train\n",
    "        if train:\n",
    "            self.y = tensor(y.values.reshape((-1, 1)), dtype=torch.float32)\n",
    "\n",
    "    def __len__(self):\n",
    "        return len(self.X)\n",
    "\n",
    "    def __getitem__(self, idx):\n",
    "        if self.train:\n",
    "            return self.X[idx], self.y[idx]\n",
    "        else:\n",
    "            return self.X[idx]"
   ]
  },
  {
   "cell_type": "code",
   "execution_count": 9,
   "id": "35a0f099-2d83-4032-8b99-62b957eb3ed5",
   "metadata": {},
   "outputs": [],
   "source": [
    "#train_loader = DataLoader(RainfallDataSet(X_train, train=True, y=y_train), batch_size=20, shuffle=True, num_workers=2)\n",
    "train_loader = DataLoader(RainfallDataSet(train_data[features], train=True, y=train_data.rainfall), batch_size=50, shuffle=True, num_workers=6)"
   ]
  },
  {
   "cell_type": "code",
   "execution_count": 10,
   "id": "93e7958f-353d-4980-9dc6-13ddbf91242f",
   "metadata": {},
   "outputs": [],
   "source": [
    "def cross_entropy_loss(labels, outputs):\n",
    "    outputs = outputs.clip(1e-3, 1 - 1e-3)\n",
    "    return -(labels * outputs.log() + (1 - labels) * (1 - outputs).log()).sum() / len(outputs)"
   ]
  },
  {
   "cell_type": "code",
   "execution_count": 14,
   "id": "371633ec-4329-430b-9329-7b2a4ea7004e",
   "metadata": {},
   "outputs": [
    {
     "name": "stdout",
     "output_type": "stream",
     "text": [
      "[1] loss: 8.455351, validation loss: 0.131980\n",
      "[201] loss: 8.347110, validation loss: 0.141111\n",
      "[401] loss: 7.931334, validation loss: 0.149893\n",
      "[601] loss: 7.870708, validation loss: 0.139413\n",
      "[801] loss: 7.613464, validation loss: 0.139214\n",
      "[1001] loss: 8.332091, validation loss: 0.166163\n",
      "[1201] loss: 7.892046, validation loss: 0.131796\n",
      "[1401] loss: 8.210856, validation loss: 0.129957\n",
      "[1601] loss: 7.555996, validation loss: 0.141412\n",
      "[1801] loss: 8.105544, validation loss: 0.143031\n",
      "[2001] loss: 8.319053, validation loss: 0.144816\n",
      "[2201] loss: 8.399358, validation loss: 0.128934\n",
      "[2401] loss: 7.658755, validation loss: 0.134028\n",
      "[2601] loss: 7.182375, validation loss: 0.126379\n",
      "[2801] loss: 7.446443, validation loss: 0.127295\n",
      "[3001] loss: 7.988930, validation loss: 0.145360\n",
      "[3201] loss: 7.825775, validation loss: 0.131037\n",
      "[3401] loss: 8.002773, validation loss: 0.149468\n",
      "[3601] loss: 7.975870, validation loss: 0.146035\n",
      "[3801] loss: 7.964427, validation loss: 0.148984\n",
      "[4001] loss: 7.800345, validation loss: 0.126872\n",
      "[4201] loss: 7.321469, validation loss: 0.134391\n",
      "[4401] loss: 7.896166, validation loss: 0.125991\n",
      "[4601] loss: 7.698580, validation loss: 0.134566\n",
      "[4801] loss: 7.923860, validation loss: 0.125425\n",
      "[5001] loss: 7.715825, validation loss: 0.109516\n",
      "[5201] loss: 7.885731, validation loss: 0.128338\n",
      "[5401] loss: 7.799256, validation loss: 0.139469\n",
      "[5601] loss: 7.751577, validation loss: 0.127384\n",
      "[5801] loss: 7.159217, validation loss: 0.141062\n",
      "[6001] loss: 7.669332, validation loss: 0.114148\n",
      "[6201] loss: 7.895193, validation loss: 0.123723\n",
      "[6401] loss: 7.972239, validation loss: 0.122591\n",
      "[6601] loss: 7.672312, validation loss: 0.132835\n",
      "[6801] loss: 7.275895, validation loss: 0.123887\n",
      "[7001] loss: 7.184585, validation loss: 0.120298\n",
      "[7201] loss: 7.870262, validation loss: 0.146629\n",
      "[7401] loss: 7.687266, validation loss: 0.120863\n",
      "[7601] loss: 7.870552, validation loss: 0.143985\n",
      "[7801] loss: 7.741214, validation loss: 0.107155\n",
      "[8001] loss: 8.054389, validation loss: 0.154047\n",
      "[8201] loss: 7.471341, validation loss: 0.124586\n",
      "[8401] loss: 7.234883, validation loss: 0.126712\n",
      "[8601] loss: 7.397305, validation loss: 0.146069\n",
      "[8801] loss: 7.933939, validation loss: 0.108147\n",
      "[9001] loss: 7.274818, validation loss: 0.132774\n",
      "[9201] loss: 6.888197, validation loss: 0.124284\n",
      "[9401] loss: 7.430331, validation loss: 0.120615\n",
      "[9601] loss: 7.193361, validation loss: 0.129626\n",
      "[9801] loss: 7.217436, validation loss: 0.122246\n",
      "[10001] loss: 7.716466, validation loss: 0.112302\n",
      "[10201] loss: 6.977617, validation loss: 0.122468\n",
      "[10401] loss: 7.616012, validation loss: 0.131596\n",
      "[10601] loss: 7.172424, validation loss: 0.105099\n",
      "[10801] loss: 7.441517, validation loss: 0.118574\n",
      "[11001] loss: 7.352022, validation loss: 0.118082\n",
      "[11201] loss: 7.802555, validation loss: 0.113987\n",
      "[11401] loss: 7.046397, validation loss: 0.120271\n",
      "[11601] loss: 7.141789, validation loss: 0.123372\n",
      "[11801] loss: 7.399680, validation loss: 0.109328\n",
      "[12001] loss: 6.911668, validation loss: 0.114918\n",
      "[12201] loss: 7.338212, validation loss: 0.116710\n",
      "[12401] loss: 6.942016, validation loss: 0.123173\n",
      "[12601] loss: 7.563540, validation loss: 0.119055\n",
      "[12801] loss: 7.859062, validation loss: 0.130182\n",
      "[13001] loss: 7.576325, validation loss: 0.125627\n",
      "[13201] loss: 6.890574, validation loss: 0.120019\n",
      "[13401] loss: 6.831074, validation loss: 0.136143\n",
      "[13601] loss: 7.017542, validation loss: 0.128273\n",
      "[13801] loss: 7.933089, validation loss: 0.120200\n",
      "[14001] loss: 6.784782, validation loss: 0.115444\n",
      "[14201] loss: 7.330917, validation loss: 0.112123\n",
      "[14401] loss: 7.487252, validation loss: 0.138056\n",
      "[14601] loss: 6.469163, validation loss: 0.115933\n",
      "[14801] loss: 7.253310, validation loss: 0.128011\n",
      "[15001] loss: 6.969603, validation loss: 0.122163\n",
      "[15201] loss: 7.446542, validation loss: 0.128062\n",
      "[15401] loss: 6.889518, validation loss: 0.114508\n",
      "[15601] loss: 6.958509, validation loss: 0.109583\n",
      "[15801] loss: 6.589422, validation loss: 0.105563\n",
      "[16001] loss: 7.061504, validation loss: 0.103543\n",
      "[16201] loss: 7.285792, validation loss: 0.122033\n",
      "[16401] loss: 7.306598, validation loss: 0.133771\n",
      "[16601] loss: 6.956896, validation loss: 0.106126\n",
      "[16801] loss: 7.369071, validation loss: 0.107127\n",
      "[17001] loss: 7.241958, validation loss: 0.099020\n",
      "[17201] loss: 7.644132, validation loss: 0.111587\n",
      "[17401] loss: 7.574940, validation loss: 0.118208\n",
      "[17601] loss: 6.547778, validation loss: 0.118108\n",
      "[17801] loss: 7.023344, validation loss: 0.124713\n",
      "[18001] loss: 6.610536, validation loss: 0.120646\n",
      "[18201] loss: 6.888633, validation loss: 0.112474\n",
      "[18401] loss: 7.323699, validation loss: 0.138514\n",
      "[18601] loss: 6.479942, validation loss: 0.109066\n",
      "[18801] loss: 6.807552, validation loss: 0.118076\n",
      "[19001] loss: 7.960633, validation loss: 0.096942\n",
      "[19201] loss: 6.452686, validation loss: 0.113499\n",
      "[19401] loss: 7.255429, validation loss: 0.112006\n",
      "[19601] loss: 6.170997, validation loss: 0.120005\n",
      "[19801] loss: 6.610755, validation loss: 0.109655\n",
      "Finished Training\n"
     ]
    }
   ],
   "source": [
    "losses = []\n",
    "running_losses = []\n",
    "val_losses = []\n",
    "patience = 10000\n",
    "\n",
    "net = NN()\n",
    "optimizer = optim.SGD(net.parameters(), lr=0.001, momentum=0.9)\n",
    "\n",
    "for epoch in range(20000):  # loop over the dataset multiple times\n",
    "\n",
    "    running_loss = 0.0\n",
    "    for i, data in enumerate(train_loader, 0):\n",
    "        # get the inputs; data is a list of [inputs, labels]\n",
    "        inputs, labels = data\n",
    "\n",
    "        # zero the parameter gradients\n",
    "        optimizer.zero_grad()\n",
    "\n",
    "        # forward + backward + optimize\n",
    "        outputs = net(inputs)\n",
    "        \n",
    "        # Do the cross-entropy loss by hand, b/c the built-in function returns 0.\n",
    "        loss = cross_entropy_loss(labels, outputs)\n",
    "\n",
    "        loss.backward()\n",
    "        optimizer.step()\n",
    "\n",
    "        # log statistics:\n",
    "        losses.append(loss.item())\n",
    "        running_loss += loss.item()\n",
    "        #if i % 100 == 0:\n",
    "        #    print(f'[{epoch + 1}, {i + 1:5d}] loss: {running_loss / 100:.6f}')\n",
    "        #    running_loss = 0.0\n",
    "\n",
    "    running_losses.append(running_loss)\n",
    "\n",
    "    # Calculate the test loss:\n",
    "    with torch.no_grad():\n",
    "        val_labels = tensor(y_validation.values.reshape((-1, 1)))\n",
    "        y_val = net(tensor(X_validation.values, dtype=torch.float32))\n",
    "        val_loss = cross_entropy_loss(val_labels, y_val)\n",
    "        val_losses.append(val_loss)\n",
    "    \n",
    "    if epoch % 200 == 0:\n",
    "        print(f'[{epoch + 1}] loss: {running_losses[-1]:.6f}, validation loss: {val_losses[-1]:.6f}')\n",
    "\n",
    "    if min(val_losses) < min(val_losses[-patience:]):\n",
    "        print(f'No improvement in the last {patience} epochs, stopping in epoch {epoch}.')\n",
    "        break\n",
    "\n",
    "print('Finished Training')"
   ]
  },
  {
   "cell_type": "code",
   "execution_count": 15,
   "id": "9df3273d-9138-452b-93c8-80cd12066e81",
   "metadata": {},
   "outputs": [
    {
     "data": {
      "text/plain": [
       "[<matplotlib.lines.Line2D at 0x7f360667bd70>,\n",
       " <matplotlib.lines.Line2D at 0x7f36065069f0>]"
      ]
     },
     "execution_count": 15,
     "metadata": {},
     "output_type": "execute_result"
    },
    {
     "data": {
      "image/png": "[encoded data removed]",
      "text/plain": [
       "<Figure size 640x480 with 1 Axes>"
      ]
     },
     "metadata": {},
     "output_type": "display_data"
    }
   ],
   "source": [
    "x = np.linspace(1, len(val_losses), len(val_losses), endpoint=True, dtype=int)\n",
    "plt.plot(x, running_losses, x, np.asarray(val_losses) * max(running_losses) / max(val_losses))"
   ]
  },
  {
   "cell_type": "code",
   "execution_count": 16,
   "id": "8586c285-c0f7-47a3-a1ea-242fb234de13",
   "metadata": {},
   "outputs": [],
   "source": [
    "with torch.no_grad():\n",
    "    y_test = net(tensor(test_data[features].values, dtype=torch.float32))\n",
    "\n",
    "pd.DataFrame(y_test, columns=['rainfall']).join(test_data.id).set_index('id', drop=True).to_csv('submission_torch.csv')"
   ]
  },
  {
   "cell_type": "code",
   "execution_count": null,
   "id": "55a0bda4-f9d6-459f-a4cf-61273b10310f",
   "metadata": {},
   "outputs": [],
   "source": []
  },
  {
   "cell_type": "code",
   "execution_count": null,
   "id": "191ad359-0a4d-4d1d-99fe-e84033e69cc1",
   "metadata": {},
   "outputs": [],
   "source": []
  }
 ],
 "metadata": {
  "kernelspec": {
   "display_name": "Python 3 (ipykernel)",
   "language": "python",
   "name": "python3"
  },
  "language_info": {
   "codemirror_mode": {
    "name": "ipython",
    "version": 3
   },
   "file_extension": ".py",
   "mimetype": "text/x-python",
   "name": "python",
   "nbconvert_exporter": "python",
   "pygments_lexer": "ipython3",
   "version": "3.12.2"
  }
 },
 "nbformat": 4,
 "nbformat_minor": 5
}
