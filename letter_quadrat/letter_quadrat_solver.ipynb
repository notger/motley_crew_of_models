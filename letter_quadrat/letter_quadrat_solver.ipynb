{
 "cells": [
  {
   "cell_type": "markdown",
   "id": "29308417-c673-4d63-9045-695402f12f0b",
   "metadata": {},
   "source": [
    "Assume you have a quadrat with four sides (or N sides), where each side has three letters (imagine they are points on the side of the quadrat).\n",
    "\n",
    "Your task is the find the least amount of words of at least len = 3 which touches each letter at least once. When picking the next letter, said letter must be on a different side than the current letter. The first letter of the next word must be the same as the last letter of the previous word (i.e. said letter belongs to two words at once)."
   ]
  },
  {
   "cell_type": "code",
   "execution_count": 1,
   "id": "6b12aef1-86d9-492d-ab96-ec7bedeb7af4",
   "metadata": {},
   "outputs": [],
   "source": [
    "import heapq\n",
    "from collections import defaultdict\n",
    "from tqdm.notebook import tqdm"
   ]
  },
  {
   "cell_type": "code",
   "execution_count": 2,
   "id": "1c7b52aa-3ca9-439e-806b-8292f32f74da",
   "metadata": {},
   "outputs": [],
   "source": [
    "CUTOFF = 4  # We can assume that a good solution requires four words or less. So if we have to use more than four words, it is not a candidate."
   ]
  },
  {
   "cell_type": "code",
   "execution_count": 3,
   "id": "c734aca3-4f47-4e7a-be61-bb6f6e3811fe",
   "metadata": {},
   "outputs": [],
   "source": [
    "sides = {\n",
    "    1: ['w', 'f', 'i'],\n",
    "    2: ['n', 'c', 'y'],\n",
    "    3: ['g', 't', 'a'],\n",
    "    4: ['h', 'e', 'm'],\n",
    "}\n",
    "\n",
    "# Let's transform those into a tuple which contains letter and side:\n",
    "def generate_nodes(sides):\n",
    "    return {(k, letter) for k in range(1, 5) for letter in sides[k]}\n",
    "nodes = generate_nodes(sides)\n",
    "\n",
    "# Depending on which side we are on, we need to decide which possible letters are next:\n",
    "def generate_possible_nexts(nodes):\n",
    "    possible_nexts = {}\n",
    "    for current_node in nodes:\n",
    "        possible_nexts[current_node] = []\n",
    "        for node in nodes:\n",
    "            if node[0] != current_node[0]:\n",
    "                possible_nexts[current_node].append(node)\n",
    "    return possible_nexts\n",
    "possible_nexts = generate_possible_nexts(nodes)"
   ]
  },
  {
   "cell_type": "code",
   "execution_count": 4,
   "id": "52246dc6-8e42-48fe-aa20-980965596f7b",
   "metadata": {},
   "outputs": [],
   "source": [
    "def is_possible(current_position, letter):\n",
    "    return letter in [c for side, c in possible_nexts[current_position]]"
   ]
  },
  {
   "cell_type": "code",
   "execution_count": 5,
   "id": "dda9782a-1058-47a0-9cbf-f5c35e0995b2",
   "metadata": {},
   "outputs": [],
   "source": [
    "def get_all_possible(current_position, letter):\n",
    "    return [node for node in possible_nexts[current_position] if letter == node[1]]"
   ]
  },
  {
   "cell_type": "code",
   "execution_count": 6,
   "id": "c697206d-dbcd-4f18-8aa1-102c7625dd79",
   "metadata": {},
   "outputs": [],
   "source": [
    "# Read in word list:\n",
    "with open('words.txt', 'rt') as f:\n",
    "    words = [word.strip() for word in f.readlines()]"
   ]
  },
  {
   "cell_type": "code",
   "execution_count": 7,
   "id": "1a75dd1f-bd29-4d61-b35a-ff0e70984338",
   "metadata": {},
   "outputs": [
    {
     "data": {
      "text/plain": [
       "[[(4, 'h'), (1, 'i'), (3, 't'), (4, 'e')],\n",
       " [(4, 'h'), (4, 'i'), (3, 't'), (4, 'e')]]"
      ]
     },
     "execution_count": 7,
     "metadata": {},
     "output_type": "execute_result"
    }
   ],
   "source": [
    "def generate_paths(input_list):\n",
    "    # Start with a list containing an empty path\n",
    "    paths = [[]]\n",
    "    \n",
    "    # Iterate through each step (inner list) in the journey\n",
    "    for step in input_list:\n",
    "        # For each existing path, create new paths by appending each option in the current step\n",
    "        paths = [path + [option] for path in paths for option in step]\n",
    "    \n",
    "    return paths\n",
    "\n",
    "# Let's have a sample path to test with:\n",
    "sample_path = [[(4, 'h')], [(1, 'i'), (4, 'i')], [(3, 't')], [(4, 'e')]]\n",
    "generate_paths(sample_path)"
   ]
  },
  {
   "cell_type": "code",
   "execution_count": 8,
   "id": "ed0d623b-8f6e-4c21-96fb-c8f924571eaf",
   "metadata": {},
   "outputs": [],
   "source": [
    "def is_valid_path(path):\n",
    "    side = -1\n",
    "    for step in path:\n",
    "        if step[0] == side:\n",
    "            return False\n",
    "        else:\n",
    "            side = step[0]\n",
    "            \n",
    "    return True\n",
    "\n",
    "assert is_valid_path(generate_paths(sample_path)[0]) is True\n",
    "assert is_valid_path(generate_paths(sample_path)[1]) is False"
   ]
  },
  {
   "cell_type": "code",
   "execution_count": 9,
   "id": "ba894a42-70b8-4540-81d5-1c495dcb03fb",
   "metadata": {},
   "outputs": [
    {
     "data": {
      "text/plain": [
       "[[(4, 'h'), (1, 'i'), (3, 't'), (4, 'e')]]"
      ]
     },
     "execution_count": 9,
     "metadata": {},
     "output_type": "execute_result"
    }
   ],
   "source": [
    "# The conditions are: When you trace a word through the sides, no two subsequent side values might be the same.\n",
    "# So we have to get all possible side indices for a given word and then generate all possible paths.\n",
    "def get_all_paths(word, current_position=None):\n",
    "    if current_position:\n",
    "        visitable_nodes = [[node for node in nodes if node[1] == letter] for letter in word[1:]]\n",
    "        return [path for path in generate_paths(visitable_nodes) if is_valid_path(path)]\n",
    "\n",
    "    else:\n",
    "        visitable_nodes = [[node for node in nodes if node[1] == letter] for letter in word]\n",
    "        return [path for path in generate_paths(visitable_nodes) if is_valid_path(path)]        \n",
    "\n",
    "\n",
    "get_all_paths('white', (1, 'w'))"
   ]
  },
  {
   "cell_type": "code",
   "execution_count": 10,
   "id": "66497d5b-815d-4b41-b785-87234771369c",
   "metadata": {},
   "outputs": [
    {
     "data": {
      "text/plain": [
       "[[(1, 'w'), (4, 'h'), (1, 'i'), (3, 't'), (4, 'e')]]"
      ]
     },
     "execution_count": 10,
     "metadata": {},
     "output_type": "execute_result"
    }
   ],
   "source": [
    "get_all_paths('white')"
   ]
  },
  {
   "cell_type": "code",
   "execution_count": 11,
   "id": "5ea7375c-59d1-4993-bb3f-6955155bf3a2",
   "metadata": {},
   "outputs": [
    {
     "data": {
      "application/vnd.jupyter.widget-view+json": {
       "model_id": "be569ed469c948c3b1757e79a19a14cf",
       "version_major": 2,
       "version_minor": 0
      },
      "text/plain": [
       "  0%|          | 0/198422 [00:00<?, ?it/s]"
      ]
     },
     "metadata": {},
     "output_type": "display_data"
    }
   ],
   "source": [
    "# Filter out impossible words: We will loop through all words and distill a ton of candidates which are compatible with our quadrant.\n",
    "possible_words = []\n",
    "for word in tqdm(words):\n",
    "    paths = get_all_paths(word)\n",
    "    if len(paths) > 0:\n",
    "        possible_words.append(word)\n",
    "\n",
    "possible_words = sorted(possible_words, key=lambda x: -len(x))"
   ]
  },
  {
   "cell_type": "code",
   "execution_count": 12,
   "id": "7dc6867e-215d-4fdb-b764-f8d36a2d46bd",
   "metadata": {},
   "outputs": [
    {
     "name": "stdout",
     "output_type": "stream",
     "text": [
      "After pruning, there are 778 words left to consider, from originally 198422.\n"
     ]
    }
   ],
   "source": [
    "print(f'After pruning, there are {len(possible_words)} words left to consider, from originally {len(words)}.')"
   ]
  },
  {
   "cell_type": "code",
   "execution_count": 13,
   "id": "40c19d4e-ece6-4135-9cf4-a32a87ce174e",
   "metadata": {},
   "outputs": [
    {
     "name": "stdout",
     "output_type": "stream",
     "text": [
      "Found new potentially shortest solution of length 4 in step 85 with 797 remaining.\n",
      "Found new potentially shortest solution of length 4 in step 86 with 797 remaining.\n",
      "Found new potentially shortest solution of length 4 in step 110 with 797 remaining.\n",
      "Found new potentially shortest solution of length 4 in step 140 with 797 remaining.\n",
      "Found new potentially shortest solution of length 4 in step 179 with 796 remaining.\n",
      "Found new potentially shortest solution of length 4 in step 180 with 796 remaining.\n",
      "Found new potentially shortest solution of length 4 in step 181 with 796 remaining.\n",
      "Found new potentially shortest solution of length 4 in step 202 with 796 remaining.\n",
      "Found new potentially shortest solution of length 4 in step 203 with 796 remaining.\n",
      "Found new potentially shortest solution of length 4 in step 207 with 795 remaining.\n",
      "Found new potentially shortest solution of length 4 in step 208 with 795 remaining.\n",
      "Found new potentially shortest solution of length 4 in step 232 with 795 remaining.\n",
      "Found new potentially shortest solution of length 4 in step 262 with 795 remaining.\n",
      "Found new potentially shortest solution of length 4 in step 286 with 794 remaining.\n",
      "Found new potentially shortest solution of length 4 in step 320 with 794 remaining.\n",
      "Found new potentially shortest solution of length 4 in step 413 with 793 remaining.\n",
      "Found new potentially shortest solution of length 4 in step 414 with 793 remaining.\n",
      "Found new potentially shortest solution of length 4 in step 415 with 793 remaining.\n",
      "Found new potentially shortest solution of length 4 in step 436 with 793 remaining.\n",
      "Found new potentially shortest solution of length 4 in step 437 with 793 remaining.\n",
      "Found new potentially shortest solution of length 3 in step 1449 with 784 remaining.\n",
      "Found new potentially shortest solution of length 3 in step 1512 with 784 remaining.\n",
      "Found new potentially shortest solution of length 3 in step 1570 with 783 remaining.\n",
      "Found new potentially shortest solution of length 3 in step 1604 with 783 remaining.\n",
      "Found new potentially shortest solution of length 3 in step 1735 with 779 remaining.\n",
      "Found new potentially shortest solution of length 2 in step 6542 with 682 remaining.\n",
      "- Reached step 10000\n",
      "Found new potentially shortest solution of length 2 in step 14579 with 545 remaining.\n",
      "- Reached step 20000\n",
      "- Reached step 30000\n",
      "- Reached step 40000\n",
      "- Reached step 50000\n",
      "CPU times: user 52.2 s, sys: 6.86 ms, total: 52.2 s\n",
      "Wall time: 52.2 s\n"
     ]
    }
   ],
   "source": [
    "%%time\n",
    "# Solution algorithm: For each word to start with, we will check the set of letters left to hit \n",
    "# and then loop through all other words and create the new set of letters left.\n",
    "# We will check whether we reached a solution and then break off, but otherwise we will keep going.\n",
    "# Each proposed solution will be stored in a tuple with (score, [words used], {letters left}, current_position),\n",
    "# where the score is calculated from 100 * len(current_positions) + len([words_used]).\n",
    "# We will use heapq to manage the queue and we will prune all solutions which exceed the allowed max length of words.\n",
    "\n",
    "def score_candidate(history, left):\n",
    "    return 100*len(left) + len(history)\n",
    "\n",
    "    \n",
    "# We are interested in only one solution:\n",
    "solution = None\n",
    "solution_dict = defaultdict(list)\n",
    "len_longest_solution = CUTOFF + 1\n",
    "k = 0\n",
    "\n",
    "# Initial candidate generation:\n",
    "candidates = []\n",
    "for word in possible_words:\n",
    "    paths = get_all_paths(word)\n",
    "\n",
    "    for path in paths:\n",
    "        left = nodes - set(path)\n",
    "        history = [word]\n",
    "        score = score_candidate(history, left)\n",
    "\n",
    "        if left:\n",
    "            heapq.heappush(candidates, (score, history, left, path[-1]))\n",
    "        else:\n",
    "            print(f'Holy cow we already have a winner: {word}')\n",
    "            solution = word\n",
    "            len_longest_solution = 1\n",
    "\n",
    "\n",
    "while True:\n",
    "    if candidates:\n",
    "        score, history, left, cur_pos = heapq.heappop(candidates)\n",
    "    else:\n",
    "        break\n",
    "\n",
    "    # Loop through all words which start with the same letter as the current one ended:\n",
    "    for word in [w for w in words if w[0] == cur_pos[1]]:\n",
    "        paths = get_all_paths(word)\n",
    "\n",
    "        for path in paths:\n",
    "            # Counts the steps for funs an giggles:\n",
    "            if k % 10_000 == 9_999:\n",
    "                print(f'- Reached step {k+1}')\n",
    "            k += 1\n",
    "            \n",
    "            new_left = left - set(path)\n",
    "            new_history = history[:] + [word]\n",
    "            new_score = score_candidate(new_history, new_left)\n",
    "\n",
    "            if not new_left:\n",
    "                if len(new_history) <= len_longest_solution:\n",
    "                    solution = new_history\n",
    "                    len_longest_solution = len(solution)\n",
    "                    print(f'Found new potentially shortest solution of length {len_longest_solution} in step {k} with {len(candidates)} remaining.')\n",
    "                    solution_dict[len(solution)].append(solution)\n",
    "   \n",
    "            if new_score < score and len(new_history) < len_longest_solution - 1:\n",
    "                heapq.heappush(candidates, (new_score, new_history, new_left, path[-1]))"
   ]
  },
  {
   "cell_type": "code",
   "execution_count": 14,
   "id": "3660d03d-0b5c-4d1d-89fc-204989f22010",
   "metadata": {},
   "outputs": [
    {
     "name": "stdout",
     "output_type": "stream",
     "text": [
      "['fetch', 'highwayman']\n"
     ]
    }
   ],
   "source": [
    "print(solution)"
   ]
  },
  {
   "cell_type": "code",
   "execution_count": 15,
   "id": "7f66ba7a-b6c1-4e4b-9c4f-ee6f61d76a8a",
   "metadata": {},
   "outputs": [],
   "source": [
    "# What is the optimal solution"
   ]
  },
  {
   "cell_type": "code",
   "execution_count": 16,
   "id": "8c15bced-43c0-46c5-b869-07c8902b0350",
   "metadata": {},
   "outputs": [
    {
     "data": {
      "text/plain": [
       "[['fetich', 'highwayman'], ['fetch', 'highwayman']]"
      ]
     },
     "execution_count": 16,
     "metadata": {},
     "output_type": "execute_result"
    }
   ],
   "source": [
    "solution_dict[min(solution_dict.keys())]"
   ]
  },
  {
   "cell_type": "code",
   "execution_count": null,
   "id": "6833ace3-b66b-4b12-ae8b-92c4db1a7eff",
   "metadata": {},
   "outputs": [],
   "source": []
  }
 ],
 "metadata": {
  "kernelspec": {
   "display_name": "Python 3 (ipykernel)",
   "language": "python",
   "name": "python3"
  },
  "language_info": {
   "codemirror_mode": {
    "name": "ipython",
    "version": 3
   },
   "file_extension": ".py",
   "mimetype": "text/x-python",
   "name": "python",
   "nbconvert_exporter": "python",
   "pygments_lexer": "ipython3",
   "version": "3.12.2"
  }
 },
 "nbformat": 4,
 "nbformat_minor": 5
}
