{
 "cells": [
  {
   "cell_type": "code",
   "execution_count": null,
   "id": "aeee342b-26ac-47c1-b97d-0beca22381d9",
   "metadata": {},
   "outputs": [],
   "source": [
    "import tqdm\n",
    "import torch\n",
    "import numpy as np\n",
    "import pandas as pd\n",
    "\n",
    "from collections import defaultdict"
   ]
  },
  {
   "cell_type": "code",
   "execution_count": null,
   "id": "ca7d5403-4ab6-434e-b4bf-280f12c90344",
   "metadata": {},
   "outputs": [],
   "source": [
    "from loader import *\n",
    "from features import *\n",
    "from training import *\n",
    "from model import *"
   ]
  },
  {
   "cell_type": "markdown",
   "id": "812cc15c-07df-4be5-9565-0f45012618d2",
   "metadata": {},
   "source": [
    "# Data loading"
   ]
  },
  {
   "cell_type": "code",
   "execution_count": null,
   "id": "d6ff01bc-42b2-4396-ae2c-af092341d3e6",
   "metadata": {},
   "outputs": [],
   "source": [
    "movies, ratings = load_raw_data(user_limit=1000, movie_limit=500, path='data/ml-32m/')\n",
    "genre_lookup, genres = generate_genre_lookup(movies)\n",
    "lookup_movie_id_to_emb, lookup_emb_to_movie_id, lookup_genre_to_emb, lookup_emb_to_genre = generate_embeddings(movies, genres)\n",
    "aggregated_user_scores = generate_aggregated_user_scores(ratings)"
   ]
  },
  {
   "cell_type": "code",
   "execution_count": null,
   "id": "8a3ba7dc-fe83-4311-b371-da4b1527ce97",
   "metadata": {},
   "outputs": [],
   "source": [
    "aggregated_user_scores.head()"
   ]
  },
  {
   "cell_type": "code",
   "execution_count": null,
   "id": "39fa77db-dd4f-4b40-8934-8fb51d4d2013",
   "metadata": {},
   "outputs": [],
   "source": [
    "user_features, user_movie_ratings = generate_user_features(aggregated_user_scores, genre_lookup, lookup_genre_to_emb, lookup_movie_id_to_emb)\n",
    "movie_features, genre_features = generate_movie_features(genre_lookup, lookup_genre_to_emb, lookup_movie_id_to_emb)\n",
    "\n",
    "print(f\"User features of shape {user_features.shape} with {user_movie_ratings.shape} ratings and movie/genre features of shape {movie_features.shape} / {genre_features.shape}\")"
   ]
  },
  {
   "cell_type": "code",
   "execution_count": null,
   "id": "5ba629c5-ea77-474e-a1e1-693f32b70d61",
   "metadata": {},
   "outputs": [],
   "source": [
    "user_features = torch.from_numpy(user_features)\n",
    "user_movie_ratings = torch.from_numpy(user_movie_ratings)\n",
    "movie_features = torch.from_numpy(movie_features)\n",
    "genre_features = torch.from_numpy(genre_features)"
   ]
  },
  {
   "cell_type": "markdown",
   "id": "1f72fcf2-a8b9-4618-a9e6-3dd06ce09dec",
   "metadata": {},
   "source": [
    "# Modeling section"
   ]
  },
  {
   "cell_type": "code",
   "execution_count": null,
   "id": "a0b427fb-57d4-4aee-94f3-f47eb8523c04",
   "metadata": {},
   "outputs": [],
   "source": [
    "movie_embedding_size = 20\n",
    "genre_embedding_size = 20\n",
    "user_features_embedding_size = movie_embedding_size + genre_embedding_size\n",
    "device = torch.device(\"cuda:0\" if torch.cuda.is_available() else \"cpu\")\n",
    "\n",
    "N_epochs = 1_000  # We will be running random batches from our data in each epoch.\n",
    "batch_size = 100\n",
    "log_every = 100\n",
    "loss_filter_window_length = 10  # We will log the last x losses to calculate a running mean.\n",
    "\n",
    "mdl = TwoTowerModel(\n",
    "    user_features, movie_features, genre_features,\n",
    "    user_features_embedding_size, movie_embedding_size, genre_embedding_size\n",
    ")\n",
    "\n",
    "optimiser = torch.optim.SGD(mdl.parameters(), lr=0.00000001, momentum=0.9)\n",
    "loss_fn = torch.nn.MSELoss()\n",
    "\n",
    "filtered_loss = []\n",
    "for epoch in tqdm.tqdm_notebook(range(1, N_epochs + 1)):\n",
    "    # Generate the random batch:\n",
    "    user_batch, move_batch, genre_batch, ratings_batch = generate_batch(\n",
    "        user_features, movie_features, genre_features, user_movie_ratings, batch_size\n",
    "    )\n",
    "\n",
    "    output = mdl.forward(user_batch, move_batch, genre_batch)\n",
    "    loss = loss_fn(output, ratings_batch)\n",
    "    loss.backward()\n",
    "    optimiser.step()\n",
    "\n",
    "    # The following be more elegant, but we are doing so many heavy stuff here, this does not matter anymore.\n",
    "    if epoch < 10:\n",
    "        filtered_loss.append(loss.item())\n",
    "    else:\n",
    "        filtered_loss = filtered_loss[1:] + [loss.item()]  \n",
    "\n",
    "    if epoch % log_every == 0:\n",
    "        print(f\"Epoch {epoch} loss: {np.mean(filtered_loss)}\")"
   ]
  }
 ],
 "metadata": {
  "kernelspec": {
   "display_name": "Python 3 (ipykernel)",
   "language": "python",
   "name": "python3"
  },
  "language_info": {
   "codemirror_mode": {
    "name": "ipython",
    "version": 3
   },
   "file_extension": ".py",
   "mimetype": "text/x-python",
   "name": "python",
   "nbconvert_exporter": "python",
   "pygments_lexer": "ipython3",
   "version": "3.12.2"
  }
 },
 "nbformat": 4,
 "nbformat_minor": 5
}
